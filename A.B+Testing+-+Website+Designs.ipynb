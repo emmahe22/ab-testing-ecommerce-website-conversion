{
 "cells": [
  {
   "cell_type": "markdown",
   "metadata": {},
   "source": [
    "# A/B Testing: e-Commerce Websites \n"
   ]
  },
  {
   "cell_type": "markdown",
   "metadata": {},
   "source": [
    "In this notebook we'll assess the results from an A/B test. We will use the dataset from Kaggle (\"ab_test.csv\"), which contrains the results from an A/B test on conversion rates from using a new vs. old landing page design.\n",
    "\n",
    "Here is how we will approach this problem: \n",
    "\n",
    "1. [Context](#1.-Context)\n",
    "2. [Formulate a hypothesis](#2.-Formulate-a-hypothesis)\n",
    "3. [Preapre the dataset](#3.-Preapre-the-dataset )\n",
    "4. [Determine the sample size](#4.-Determine-the-sample-size)\n",
    "5. [Analyze the A/B test results](#5.-Analyze-the-A/B-test-results)\n",
    "6. [Draw conclusions](#6.-Draw-conclusions)\n"
   ]
  },
  {
   "cell_type": "markdown",
   "metadata": {},
   "source": [
    "## 1. Context\n",
    "\n",
    "The e-commerce company has **developed a new version of the landing page website**, in hopes to **increase the conversion rate** of its customers (users who decided to purchase the company's product). The team has run an A/B test to compare the results of the new landing page to the original one. \n",
    "\n",
    "After discussing with product manager and business stakeholders, we learned that **the average coversion rate is 12%** throughout the year, and **minimal detectable effect** (the minimum difference / enhancement needed to consider launching the new page to production) is **2%**. This means that the new desgin will be considered successful if it can increase the conversion rate to 14%. \n"
   ]
  },
  {
   "cell_type": "markdown",
   "metadata": {},
   "source": [
    "## 2. Formulate a hypothesis "
   ]
  },
  {
   "cell_type": "markdown",
   "metadata": {},
   "source": [
    "Our null hypothesis is that the new design (treatment group) will be no different from the original design (control group). We are not sure yet whether the new design will increase or decrease conversion rate comparing to the old design. The alternative hypothesis is that the new design will be different from the old design. \n",
    "$$H_0: p = p_0$$\n",
    "$$H_a: p \\ne p_0$$\n",
    "\n",
    "where $p$ and $p_0$ stands for the conversation rate of the new and old design respectively.\n",
    "\n",
    "Let's also set the confidence level to be 95%. \n",
    "$$\\alpha = 0.05$$\n",
    "In subsequent sections, we will clean the dataset and use the hypothesis testing to see if we can reject the null hypothesis. "
   ]
  },
  {
   "cell_type": "markdown",
   "metadata": {},
   "source": [
    "## 3. Preapre the dataset "
   ]
  },
  {
   "cell_type": "code",
   "execution_count": 1,
   "metadata": {
    "collapsed": true
   },
   "outputs": [],
   "source": [
    "# Packages imports\n",
    "import numpy as np #linear algebra\n",
    "import pandas as pd #CSV file processsing \n",
    "\n",
    "import scipy.stats as stats \n",
    "\n",
    "import matplotlib as mpl\n",
    "import matplotlib.pyplot as plt\n",
    "import seaborn as sns\n",
    "import statsmodels.stats.api as sms\n",
    "from math import ceil\n",
    "\n",
    "from IPython.display import display, Math\n",
    "\n",
    "%matplotlib inline"
   ]
  },
  {
   "cell_type": "code",
   "execution_count": 2,
   "metadata": {},
   "outputs": [
    {
     "data": {
      "text/html": [
       "<div>\n",
       "<style scoped>\n",
       "    .dataframe tbody tr th:only-of-type {\n",
       "        vertical-align: middle;\n",
       "    }\n",
       "\n",
       "    .dataframe tbody tr th {\n",
       "        vertical-align: top;\n",
       "    }\n",
       "\n",
       "    .dataframe thead th {\n",
       "        text-align: right;\n",
       "    }\n",
       "</style>\n",
       "<table border=\"1\" class=\"dataframe\">\n",
       "  <thead>\n",
       "    <tr style=\"text-align: right;\">\n",
       "      <th></th>\n",
       "      <th>id</th>\n",
       "      <th>time</th>\n",
       "      <th>con_treat</th>\n",
       "      <th>page</th>\n",
       "      <th>converted</th>\n",
       "    </tr>\n",
       "  </thead>\n",
       "  <tbody>\n",
       "    <tr>\n",
       "      <th>0</th>\n",
       "      <td>851104</td>\n",
       "      <td>11:48.6</td>\n",
       "      <td>control</td>\n",
       "      <td>old_page</td>\n",
       "      <td>0</td>\n",
       "    </tr>\n",
       "    <tr>\n",
       "      <th>1</th>\n",
       "      <td>804228</td>\n",
       "      <td>01:45.2</td>\n",
       "      <td>control</td>\n",
       "      <td>old_page</td>\n",
       "      <td>0</td>\n",
       "    </tr>\n",
       "    <tr>\n",
       "      <th>2</th>\n",
       "      <td>661590</td>\n",
       "      <td>55:06.2</td>\n",
       "      <td>treatment</td>\n",
       "      <td>new_page</td>\n",
       "      <td>0</td>\n",
       "    </tr>\n",
       "    <tr>\n",
       "      <th>3</th>\n",
       "      <td>853541</td>\n",
       "      <td>28:03.1</td>\n",
       "      <td>treatment</td>\n",
       "      <td>new_page</td>\n",
       "      <td>0</td>\n",
       "    </tr>\n",
       "    <tr>\n",
       "      <th>4</th>\n",
       "      <td>864975</td>\n",
       "      <td>52:26.2</td>\n",
       "      <td>control</td>\n",
       "      <td>old_page</td>\n",
       "      <td>1</td>\n",
       "    </tr>\n",
       "  </tbody>\n",
       "</table>\n",
       "</div>"
      ],
      "text/plain": [
       "       id     time  con_treat      page  converted\n",
       "0  851104  11:48.6    control  old_page          0\n",
       "1  804228  01:45.2    control  old_page          0\n",
       "2  661590  55:06.2  treatment  new_page          0\n",
       "3  853541  28:03.1  treatment  new_page          0\n",
       "4  864975  52:26.2    control  old_page          1"
      ]
     },
     "execution_count": 2,
     "metadata": {},
     "output_type": "execute_result"
    }
   ],
   "source": [
    "#load the csv file top 5 rows\n",
    "df = pd.read_csv(\"ab_test.csv\") \n",
    "df.head()"
   ]
  },
  {
   "cell_type": "code",
   "execution_count": 65,
   "metadata": {},
   "outputs": [
    {
     "data": {
      "text/html": [
       "<div>\n",
       "<style scoped>\n",
       "    .dataframe tbody tr th:only-of-type {\n",
       "        vertical-align: middle;\n",
       "    }\n",
       "\n",
       "    .dataframe tbody tr th {\n",
       "        vertical-align: top;\n",
       "    }\n",
       "\n",
       "    .dataframe thead th {\n",
       "        text-align: right;\n",
       "    }\n",
       "</style>\n",
       "<table border=\"1\" class=\"dataframe\">\n",
       "  <thead>\n",
       "    <tr style=\"text-align: right;\">\n",
       "      <th></th>\n",
       "      <th>user_id</th>\n",
       "      <th>timestamp</th>\n",
       "      <th>group</th>\n",
       "      <th>page</th>\n",
       "      <th>converted</th>\n",
       "    </tr>\n",
       "  </thead>\n",
       "  <tbody>\n",
       "    <tr>\n",
       "      <th>0</th>\n",
       "      <td>851104</td>\n",
       "      <td>11:48.6</td>\n",
       "      <td>control</td>\n",
       "      <td>old_page</td>\n",
       "      <td>0</td>\n",
       "    </tr>\n",
       "    <tr>\n",
       "      <th>1</th>\n",
       "      <td>804228</td>\n",
       "      <td>01:45.2</td>\n",
       "      <td>control</td>\n",
       "      <td>old_page</td>\n",
       "      <td>0</td>\n",
       "    </tr>\n",
       "    <tr>\n",
       "      <th>2</th>\n",
       "      <td>661590</td>\n",
       "      <td>55:06.2</td>\n",
       "      <td>treatment</td>\n",
       "      <td>new_page</td>\n",
       "      <td>0</td>\n",
       "    </tr>\n",
       "    <tr>\n",
       "      <th>3</th>\n",
       "      <td>853541</td>\n",
       "      <td>28:03.1</td>\n",
       "      <td>treatment</td>\n",
       "      <td>new_page</td>\n",
       "      <td>0</td>\n",
       "    </tr>\n",
       "    <tr>\n",
       "      <th>4</th>\n",
       "      <td>864975</td>\n",
       "      <td>52:26.2</td>\n",
       "      <td>control</td>\n",
       "      <td>old_page</td>\n",
       "      <td>1</td>\n",
       "    </tr>\n",
       "  </tbody>\n",
       "</table>\n",
       "</div>"
      ],
      "text/plain": [
       "   user_id timestamp      group      page  converted\n",
       "0   851104   11:48.6    control  old_page          0\n",
       "1   804228   01:45.2    control  old_page          0\n",
       "2   661590   55:06.2  treatment  new_page          0\n",
       "3   853541   28:03.1  treatment  new_page          0\n",
       "4   864975   52:26.2    control  old_page          1"
      ]
     },
     "execution_count": 65,
     "metadata": {},
     "output_type": "execute_result"
    }
   ],
   "source": [
    "#rename the columns that so that makes more sense\n",
    "df = df.rename(columns={'id':\"user_id\", \"time\":\"timestamp\", \"con_treat\":\"group\"})\n",
    "df.head()"
   ]
  },
  {
   "cell_type": "code",
   "execution_count": 66,
   "metadata": {
    "scrolled": true
   },
   "outputs": [
    {
     "name": "stdout",
     "output_type": "stream",
     "text": [
      "<class 'pandas.core.frame.DataFrame'>\n",
      "RangeIndex: 294478 entries, 0 to 294477\n",
      "Data columns (total 5 columns):\n",
      " #   Column     Non-Null Count   Dtype \n",
      "---  ------     --------------   ----- \n",
      " 0   user_id    294478 non-null  int64 \n",
      " 1   timestamp  294478 non-null  object\n",
      " 2   group      294478 non-null  object\n",
      " 3   page       294478 non-null  object\n",
      " 4   converted  294478 non-null  int64 \n",
      "dtypes: int64(2), object(3)\n",
      "memory usage: 11.2+ MB\n"
     ]
    }
   ],
   "source": [
    "#general information about the dataframe\n",
    "df.info()"
   ]
  },
  {
   "cell_type": "markdown",
   "metadata": {},
   "source": [
    "This indicates that there are no null values amongst in the 29,4478 entries in total. \n"
   ]
  },
  {
   "cell_type": "markdown",
   "metadata": {},
   "source": [
    "Next we'd like to check if the number of samples in each group is equal. In an A/B test, ideally the same number of samples should be assigned to each group. \n",
    "\n",
    "In this test, we have two groups, one control group who is seeing the old landing page, and one treatment group who is seeing the new landing page. "
   ]
  },
  {
   "cell_type": "code",
   "execution_count": 67,
   "metadata": {},
   "outputs": [
    {
     "name": "stdout",
     "output_type": "stream",
     "text": [
      "the control group has 147202 observations whereas the treatment group has 147276 observations. The difference is 74.\n"
     ]
    }
   ],
   "source": [
    "control_n = df[df['group']=='control'].shape[0]\n",
    "treatment_n = df[df['group']=='treatment'].shape[0]\n",
    "print(f'the control group has {control_n} observations whereas the treatment group has {treatment_n} observations. The difference is {abs(control_n-treatment_n)}.')"
   ]
  },
  {
   "cell_type": "markdown",
   "metadata": {},
   "source": [
    "Since there is a sample ratio mismatch (we designed the A/B test to be 50/50 split, and assumed the two samples are idenpendent), we need to conduct **the Chi-Squared test of independence** to determine whether this mismatch is statistically significant. This test can indicate the probability of the two samples given, are independent. \n",
    "\n",
    "Conventionlly, we look for a p-value of 0.05 or less to determine indenpendence (which is the proof of sample ratio mismatch). "
   ]
  },
  {
   "cell_type": "code",
   "execution_count": 68,
   "metadata": {},
   "outputs": [
    {
     "name": "stdout",
     "output_type": "stream",
     "text": [
      "Power_divergenceResult(statistic=0.018595616650479832, pvalue=0.8915321515063552)\n"
     ]
    }
   ],
   "source": [
    "observed_n = [control_n,treatment_n] \n",
    "total_observed = control_n+treatment_n\n",
    "expected = [total_observed/2, total_observed/2] #we ideally have a 1:1 ratio between the groups\n",
    "\n",
    "#import chisaqure test package\n",
    "from scipy.stats import chisquare \n",
    "\n",
    "#calculates the p-value of the chi-square test \n",
    "chi = chisquare(observed_n, f_exp=expected) \n",
    "print(chi)"
   ]
  },
  {
   "cell_type": "code",
   "execution_count": 69,
   "metadata": {},
   "outputs": [
    {
     "name": "stdout",
     "output_type": "stream",
     "text": [
      "No significant sample ratio mismatch detected. We may proceed with the analysis.\n"
     ]
    }
   ],
   "source": [
    "#we use the p-value threshold of 0.01 which is more strict than using 0.05\n",
    "if chi[1]<0.01: \n",
    "    print(\"Sample ratio mismatch may be present. Data could be invalid.\")\n",
    "else: \n",
    "    print(\"No significant sample ratio mismatch detected. We may proceed with the analysis.\")"
   ]
  },
  {
   "cell_type": "markdown",
   "metadata": {},
   "source": [
    "The above chi-squred test tells us that although there is a difference between the number of samples in each group, **the sample ratio mismatch is not significant**. Therefore we now proceed preparing the dataset.\n",
    "\n",
    "Next, since the design of the experiment is that users of the control group should land on the old page, and users of the treatment group should land on the new page, we'd like to do a quick sanity check to see if the assignment is true in the test results. "
   ]
  },
  {
   "cell_type": "code",
   "execution_count": 70,
   "metadata": {},
   "outputs": [
    {
     "data": {
      "text/html": [
       "<div>\n",
       "<style scoped>\n",
       "    .dataframe tbody tr th:only-of-type {\n",
       "        vertical-align: middle;\n",
       "    }\n",
       "\n",
       "    .dataframe tbody tr th {\n",
       "        vertical-align: top;\n",
       "    }\n",
       "\n",
       "    .dataframe thead th {\n",
       "        text-align: right;\n",
       "    }\n",
       "</style>\n",
       "<table border=\"1\" class=\"dataframe\">\n",
       "  <thead>\n",
       "    <tr style=\"text-align: right;\">\n",
       "      <th></th>\n",
       "      <th>user_id</th>\n",
       "      <th>timestamp</th>\n",
       "      <th>group</th>\n",
       "      <th>page</th>\n",
       "      <th>converted</th>\n",
       "    </tr>\n",
       "  </thead>\n",
       "  <tbody>\n",
       "    <tr>\n",
       "      <th>22</th>\n",
       "      <td>767017</td>\n",
       "      <td>58:15.0</td>\n",
       "      <td>control</td>\n",
       "      <td>new_page</td>\n",
       "      <td>0</td>\n",
       "    </tr>\n",
       "    <tr>\n",
       "      <th>240</th>\n",
       "      <td>733976</td>\n",
       "      <td>11:16.4</td>\n",
       "      <td>control</td>\n",
       "      <td>new_page</td>\n",
       "      <td>0</td>\n",
       "    </tr>\n",
       "    <tr>\n",
       "      <th>308</th>\n",
       "      <td>857184</td>\n",
       "      <td>34:59.8</td>\n",
       "      <td>treatment</td>\n",
       "      <td>old_page</td>\n",
       "      <td>0</td>\n",
       "    </tr>\n",
       "    <tr>\n",
       "      <th>327</th>\n",
       "      <td>686623</td>\n",
       "      <td>26:40.7</td>\n",
       "      <td>treatment</td>\n",
       "      <td>old_page</td>\n",
       "      <td>0</td>\n",
       "    </tr>\n",
       "    <tr>\n",
       "      <th>357</th>\n",
       "      <td>856078</td>\n",
       "      <td>29:30.4</td>\n",
       "      <td>treatment</td>\n",
       "      <td>old_page</td>\n",
       "      <td>0</td>\n",
       "    </tr>\n",
       "    <tr>\n",
       "      <th>...</th>\n",
       "      <td>...</td>\n",
       "      <td>...</td>\n",
       "      <td>...</td>\n",
       "      <td>...</td>\n",
       "      <td>...</td>\n",
       "    </tr>\n",
       "    <tr>\n",
       "      <th>294014</th>\n",
       "      <td>813406</td>\n",
       "      <td>25:33.2</td>\n",
       "      <td>treatment</td>\n",
       "      <td>old_page</td>\n",
       "      <td>0</td>\n",
       "    </tr>\n",
       "    <tr>\n",
       "      <th>294200</th>\n",
       "      <td>928506</td>\n",
       "      <td>32:10.5</td>\n",
       "      <td>control</td>\n",
       "      <td>new_page</td>\n",
       "      <td>0</td>\n",
       "    </tr>\n",
       "    <tr>\n",
       "      <th>294252</th>\n",
       "      <td>892498</td>\n",
       "      <td>11:10.5</td>\n",
       "      <td>treatment</td>\n",
       "      <td>old_page</td>\n",
       "      <td>0</td>\n",
       "    </tr>\n",
       "    <tr>\n",
       "      <th>294253</th>\n",
       "      <td>886135</td>\n",
       "      <td>49:20.5</td>\n",
       "      <td>control</td>\n",
       "      <td>new_page</td>\n",
       "      <td>0</td>\n",
       "    </tr>\n",
       "    <tr>\n",
       "      <th>294331</th>\n",
       "      <td>689637</td>\n",
       "      <td>34:28.3</td>\n",
       "      <td>control</td>\n",
       "      <td>new_page</td>\n",
       "      <td>0</td>\n",
       "    </tr>\n",
       "  </tbody>\n",
       "</table>\n",
       "<p>3893 rows × 5 columns</p>\n",
       "</div>"
      ],
      "text/plain": [
       "        user_id timestamp      group      page  converted\n",
       "22       767017   58:15.0    control  new_page          0\n",
       "240      733976   11:16.4    control  new_page          0\n",
       "308      857184   34:59.8  treatment  old_page          0\n",
       "327      686623   26:40.7  treatment  old_page          0\n",
       "357      856078   29:30.4  treatment  old_page          0\n",
       "...         ...       ...        ...       ...        ...\n",
       "294014   813406   25:33.2  treatment  old_page          0\n",
       "294200   928506   32:10.5    control  new_page          0\n",
       "294252   892498   11:10.5  treatment  old_page          0\n",
       "294253   886135   49:20.5    control  new_page          0\n",
       "294331   689637   34:28.3    control  new_page          0\n",
       "\n",
       "[3893 rows x 5 columns]"
      ]
     },
     "execution_count": 70,
     "metadata": {},
     "output_type": "execute_result"
    }
   ],
   "source": [
    "# pulling the sessions when control group were landed on the new page and vice versa. \n",
    "\n",
    "df[((df[\"group\"]==\"treatment\")&(df[\"page\"]=='old_page'))|((df[\"group\"]==\"control\")&(df[\"page\"]=='new_page')) ]"
   ]
  },
  {
   "cell_type": "markdown",
   "metadata": {},
   "source": [
    "The above 3893 sessions indicates problems during the execution of the A/B test. There were 3893 users wrongly assigned to a different landing page. Since this percentage of the total number of sessions is low, we can remove the mismatched users from the dataset. "
   ]
  },
  {
   "cell_type": "code",
   "execution_count": 71,
   "metadata": {},
   "outputs": [
    {
     "name": "stdout",
     "output_type": "stream",
     "text": [
      "The updated dataset now has 286692 entries\n"
     ]
    }
   ],
   "source": [
    "df_mismatched = df[((df[\"group\"]==\"treatment\")&(df[\"page\"]=='old_page'))|((df[\"group\"]==\"control\")&(df[\"page\"]=='new_page'))]\n",
    "df_new = df[~df['user_id'].isin(df_mismatched['user_id'])]\n",
    "print(f'The updated dataset now has {df_new.shape[0]} entries')"
   ]
  },
  {
   "cell_type": "code",
   "execution_count": 72,
   "metadata": {},
   "outputs": [
    {
     "name": "stdout",
     "output_type": "stream",
     "text": [
      "The upated dataset now has 286691 unique users\n"
     ]
    }
   ],
   "source": [
    "print(f'The upated dataset now has {df_new.user_id.nunique()} unique users')"
   ]
  },
  {
   "cell_type": "code",
   "execution_count": 73,
   "metadata": {},
   "outputs": [
    {
     "name": "stdout",
     "output_type": "stream",
     "text": [
      "The updated dataset has 1 duplicated row\n"
     ]
    }
   ],
   "source": [
    "print(f'The updated dataset has {len(df_new)-df_new.user_id.nunique()} duplicated row')"
   ]
  },
  {
   "cell_type": "code",
   "execution_count": 74,
   "metadata": {},
   "outputs": [
    {
     "name": "stdout",
     "output_type": "stream",
     "text": [
      "The updated dataset has 1 user(s) that has (have) duplicated sessions\n",
      "773192    2\n",
      "Name: user_id, dtype: int64\n"
     ]
    }
   ],
   "source": [
    "session_counts = df_new['user_id'].value_counts(ascending=False)\n",
    "multi_users = session_counts[session_counts > 1]\n",
    "print(f'The updated dataset has {multi_users.shape[0]} user(s) that has (have) duplicated sessions')\n",
    "print(multi_users)"
   ]
  },
  {
   "cell_type": "code",
   "execution_count": 75,
   "metadata": {
    "collapsed": true
   },
   "outputs": [],
   "source": [
    "#drop the duplicated row \n",
    "df_new= df_new[~df_new['user_id'].isin(multi_users.index)]"
   ]
  },
  {
   "cell_type": "code",
   "execution_count": 76,
   "metadata": {},
   "outputs": [
    {
     "name": "stdout",
     "output_type": "stream",
     "text": [
      "The upated dataset now has 286690 unique users\n"
     ]
    }
   ],
   "source": [
    "print(f'The upated dataset now has {df_new.user_id.nunique()} unique users')"
   ]
  },
  {
   "cell_type": "code",
   "execution_count": 77,
   "metadata": {},
   "outputs": [
    {
     "name": "stdout",
     "output_type": "stream",
     "text": [
      "The updated dataset has 0 duplicated row\n"
     ]
    }
   ],
   "source": [
    "print(f'The updated dataset has {len(df_new)-df_new.user_id.nunique()} duplicated row')"
   ]
  },
  {
   "cell_type": "markdown",
   "metadata": {},
   "source": [
    "Now that we know how many unique users there are in this A/B test, we would like to check how many respectively for the control and treatment group. We'd like to see if the number of samples per group is roughly the same."
   ]
  },
  {
   "cell_type": "code",
   "execution_count": 78,
   "metadata": {},
   "outputs": [
    {
     "data": {
      "text/html": [
       "<div>\n",
       "<style scoped>\n",
       "    .dataframe tbody tr th:only-of-type {\n",
       "        vertical-align: middle;\n",
       "    }\n",
       "\n",
       "    .dataframe tbody tr th {\n",
       "        vertical-align: top;\n",
       "    }\n",
       "\n",
       "    .dataframe thead th {\n",
       "        text-align: right;\n",
       "    }\n",
       "</style>\n",
       "<table border=\"1\" class=\"dataframe\">\n",
       "  <thead>\n",
       "    <tr style=\"text-align: right;\">\n",
       "      <th></th>\n",
       "      <th>user_id</th>\n",
       "    </tr>\n",
       "    <tr>\n",
       "      <th>group</th>\n",
       "      <th></th>\n",
       "    </tr>\n",
       "  </thead>\n",
       "  <tbody>\n",
       "    <tr>\n",
       "      <th>control</th>\n",
       "      <td>143293</td>\n",
       "    </tr>\n",
       "    <tr>\n",
       "      <th>treatment</th>\n",
       "      <td>143397</td>\n",
       "    </tr>\n",
       "  </tbody>\n",
       "</table>\n",
       "</div>"
      ],
      "text/plain": [
       "           user_id\n",
       "group             \n",
       "control     143293\n",
       "treatment   143397"
      ]
     },
     "execution_count": 78,
     "metadata": {},
     "output_type": "execute_result"
    }
   ],
   "source": [
    "# Does the control and treatment groups have the same number of samples? \n",
    "df_new.groupby(\"group\")[[\"user_id\"]].nunique()"
   ]
  },
  {
   "cell_type": "markdown",
   "metadata": {},
   "source": [
    "Great! The numbers are roughtly the sampe. And as we tested before, the sample ratio mismatch is not significant. We may proceed to the next step, which is determining the sample size for the test. "
   ]
  },
  {
   "cell_type": "markdown",
   "metadata": {
    "collapsed": true
   },
   "source": [
    "\n",
    "## 4. Determine the Sample Size\n"
   ]
  },
  {
   "cell_type": "markdown",
   "metadata": {
    "collapsed": true
   },
   "source": [
    "To determine the effective sample size, we need to consider the following factors: \n",
    "\n",
    "1) **Power of the test** ($1 - \\beta$) - Power is the probability of making a correct decision (to reject the null hypothesis) when the null hypothesis is false. $\\beta$ is usually set at 0.2 as a convention and consequently power is set to 0.8. \n",
    "\n",
    "2) **Alpha value** ($\\alpha$) - $\\alpha$ is the statistical significance, which we set to 0.05.\n",
    "\n",
    "3) **Minimum Detectable Effect** - This is the practical siginificance boundary - we set this value to 2% according to the context earlier, this is the minimal change that matters from a business perspective to launch the new page. We hope to raise the conversion rate from 12% to 14%. "
   ]
  },
  {
   "cell_type": "code",
   "execution_count": 53,
   "metadata": {},
   "outputs": [
    {
     "name": "stdout",
     "output_type": "stream",
     "text": [
      "Need at least 4433 samples for each group.\n"
     ]
    }
   ],
   "source": [
    "#calculate sample size needed for each group, given the factors determined above\n",
    "sample_size = sms.NormalIndPower().solve_power(\n",
    "                sms.proportion_effectsize(0.12,0.14),\n",
    "                power=0.8, alpha=0.05, ratio=1)\n",
    "\n",
    "#round up to nearest integer \n",
    "sample_size = ceil(sample_size)\n",
    "\n",
    "print(f'Need at least {sample_size} samples for each group.')"
   ]
  },
  {
   "cell_type": "markdown",
   "metadata": {
    "collapsed": true
   },
   "source": [
    "### Random Sampling"
   ]
  },
  {
   "cell_type": "markdown",
   "metadata": {
    "collapsed": true
   },
   "source": [
    "With our dataset cleaned and sample size determined, we may proceeed to sample `4433` entries for each of the groups. "
   ]
  },
  {
   "cell_type": "code",
   "execution_count": 54,
   "metadata": {},
   "outputs": [
    {
     "name": "stdout",
     "output_type": "stream",
     "text": [
      "      user_id timestamp      group      page  converted\n",
      "0      691351   04:48.6    control  old_page          0\n",
      "1      782396   06:22.7    control  old_page          0\n",
      "2      802583   26:41.0    control  old_page          0\n",
      "3      826544   32:30.1    control  old_page          0\n",
      "4      786577   22:59.4    control  old_page          0\n",
      "...       ...       ...        ...       ...        ...\n",
      "8861   670145   04:29.7  treatment  new_page          0\n",
      "8862   871192   48:10.8  treatment  new_page          0\n",
      "8863   928303   05:12.6  treatment  new_page          0\n",
      "8864   941717   28:04.7  treatment  new_page          0\n",
      "8865   680467   31:34.4  treatment  new_page          0\n",
      "\n",
      "[8866 rows x 5 columns]\n"
     ]
    }
   ],
   "source": [
    "control_sample = df_new[df_new['group']=='control'].sample(n=sample_size, random_state=10)\n",
    "treatment_sample = df_new[df_new['group']=='treatment'].sample(n=sample_size, random_state=10)\n",
    "\n",
    "df_abtest=pd.concat([control_sample,treatment_sample], axis=0)\n",
    "df_abtest.reset_index(drop=True,inplace=True)\n",
    "\n",
    "print(df_abtest)"
   ]
  },
  {
   "cell_type": "code",
   "execution_count": 55,
   "metadata": {},
   "outputs": [
    {
     "data": {
      "text/html": [
       "<div>\n",
       "<style scoped>\n",
       "    .dataframe tbody tr th:only-of-type {\n",
       "        vertical-align: middle;\n",
       "    }\n",
       "\n",
       "    .dataframe tbody tr th {\n",
       "        vertical-align: top;\n",
       "    }\n",
       "\n",
       "    .dataframe thead th {\n",
       "        text-align: right;\n",
       "    }\n",
       "</style>\n",
       "<table border=\"1\" class=\"dataframe\">\n",
       "  <thead>\n",
       "    <tr style=\"text-align: right;\">\n",
       "      <th></th>\n",
       "      <th>user_id</th>\n",
       "    </tr>\n",
       "    <tr>\n",
       "      <th>group</th>\n",
       "      <th></th>\n",
       "    </tr>\n",
       "  </thead>\n",
       "  <tbody>\n",
       "    <tr>\n",
       "      <th>control</th>\n",
       "      <td>4433</td>\n",
       "    </tr>\n",
       "    <tr>\n",
       "      <th>treatment</th>\n",
       "      <td>4433</td>\n",
       "    </tr>\n",
       "  </tbody>\n",
       "</table>\n",
       "</div>"
      ],
      "text/plain": [
       "           user_id\n",
       "group             \n",
       "control       4433\n",
       "treatment     4433"
      ]
     },
     "execution_count": 55,
     "metadata": {},
     "output_type": "execute_result"
    }
   ],
   "source": [
    "df_abtest.groupby(\"group\")[[\"user_id\"]].nunique()"
   ]
  },
  {
   "cell_type": "code",
   "execution_count": 56,
   "metadata": {},
   "outputs": [
    {
     "name": "stdout",
     "output_type": "stream",
     "text": [
      "<class 'pandas.core.frame.DataFrame'>\n",
      "RangeIndex: 8866 entries, 0 to 8865\n",
      "Data columns (total 5 columns):\n",
      " #   Column     Non-Null Count  Dtype \n",
      "---  ------     --------------  ----- \n",
      " 0   user_id    8866 non-null   int64 \n",
      " 1   timestamp  8866 non-null   object\n",
      " 2   group      8866 non-null   object\n",
      " 3   page       8866 non-null   object\n",
      " 4   converted  8866 non-null   int64 \n",
      "dtypes: int64(2), object(3)\n",
      "memory usage: 346.5+ KB\n"
     ]
    }
   ],
   "source": [
    "df_abtest.info()"
   ]
  },
  {
   "cell_type": "markdown",
   "metadata": {},
   "source": [
    "Now the A/B test samples look good to go. Number of samples matches in each group and there is no missing/duplicate value. "
   ]
  },
  {
   "cell_type": "markdown",
   "metadata": {
    "collapsed": true
   },
   "source": [
    "## 5. Analyze the A/B test results"
   ]
  },
  {
   "cell_type": "markdown",
   "metadata": {
    "collapsed": true
   },
   "source": [
    "### Bootstrapping"
   ]
  },
  {
   "cell_type": "markdown",
   "metadata": {},
   "source": [
    "Now that we know the effective sample size for each group, we can use **bootstrapping** to assess the A/B testing results. The bootstrapping method takes the sample data, and then resamples it over and over to create many simulated samples. The idea of bootstrapping is that inferences about the population from sample data can be modelled by **resampling** the sample data and performing hypothesis tests on the resampled data. Then the procedure uses the sampling distribution as the foundation for confidence intervals and hypothesis testing. This information on bootstrapping is retrieved from https://statisticsbyjim.com/hypothesis-testing/bootstrapping/\n"
   ]
  },
  {
   "cell_type": "code",
   "execution_count": 57,
   "metadata": {
    "collapsed": true
   },
   "outputs": [],
   "source": [
    "bootstrap_conversion=[] #create a list with bootstrapped means\n",
    "\n",
    "for i in range(500): #create 500 samples of dataset - bootstrapping \n",
    "   \n",
    "    bootstrap_mean = df_abtest.sample(frac=1, replace=True).groupby('group')['converted'].mean()\n",
    " \n",
    "    bootstrap_conversion.append(bootstrap_mean)\n"
   ]
  },
  {
   "cell_type": "code",
   "execution_count": 58,
   "metadata": {
    "scrolled": true
   },
   "outputs": [
    {
     "data": {
      "image/png": "[encoded data removed]",
      "text/plain": [
       "<Figure size 936x360 with 1 Axes>"
      ]
     },
     "metadata": {
      "needs_background": "light"
     },
     "output_type": "display_data"
    }
   ],
   "source": [
    "bootstrap_conversion = pd.DataFrame(bootstrap_conversion)\n",
    "\n",
    "#plot the sampling distribution of the two a/b groups \n",
    "fig, (ax1) = plt.subplots(1, 1, figsize=(13,5))\n",
    "\n",
    "bootstrap_conversion.plot.kde(ax=ax1)\n",
    "ax1.set_xlabel(\"conversion rate\",size=12)\n",
    "ax1.set_ylabel(\"number of sample\",size=12)\n",
    "ax1.set_title(\"conversion rate distribution between the two A/B groups\", fontweight=\"bold\",size=12)\n",
    "plt.legend()\n",
    "plt.show()"
   ]
  },
  {
   "cell_type": "markdown",
   "metadata": {},
   "source": [
    "The above bootstrapping analysis appear to indicate that the new design (treatment group) did not perform better than the old design (control group). We'd like to explore further by using the **z-test** to see if the **p-value** is greater than the **alpha value** ($\\alpha$). Since the simple size is very large, we can use the normal approximation. "
   ]
  },
  {
   "cell_type": "code",
   "execution_count": 59,
   "metadata": {
    "collapsed": true
   },
   "outputs": [],
   "source": [
    "from statsmodels.stats.proportion import proportions_ztest, proportion_confint"
   ]
  },
  {
   "cell_type": "code",
   "execution_count": 62,
   "metadata": {},
   "outputs": [
    {
     "name": "stdout",
     "output_type": "stream",
     "text": [
      "z statistic is 0.454\n",
      "p value is 0.650\n",
      "95% confidence interval for control group is [0.114,0.134]\n",
      "95% confidence interval for treatment group is [0.111,0.131]\n"
     ]
    }
   ],
   "source": [
    "#converted counts of each group\n",
    "control_converted = df_abtest[(df_abtest['converted']==1)&(df_abtest['page']=='old_page')]['user_id'].nunique()\n",
    "treatment_converted = df_abtest[(df_abtest['converted']==1)&(df_abtest['page']=='new_page')]['user_id'].nunique()\n",
    "\n",
    "#total sample size of each group\n",
    "control_n = df_abtest[df_abtest['page']=='old_page']['user_id'].nunique()\n",
    "treatment_n = df_abtest[df_abtest['page']=='new_page']['user_id'].nunique()\n",
    "\n",
    "#transform into array\n",
    "converts = [control_converted,treatment_converted]\n",
    "observations = [control_n, treatment_n]\n",
    "\n",
    "#calcualte the z score and p-value \n",
    "z_stat, p_value = proportions_ztest(count=converts,nobs=observations)\n",
    "\n",
    "#confidence interval of the control & treatment group\n",
    "(lower_c, lower_t), (upper_c, upper_t) = proportion_confint(count = converts,nobs= observations, alpha=0.05)\n",
    "\n",
    "\n",
    "print(f'z statistic is {z_stat:.3f}')\n",
    "print(f'p value is {p_value:.3f}')\n",
    "print(f'95% confidence interval for control group is [{lower_c:.3f},{upper_c:.3f}]')\n",
    "print(f'95% confidence interval for treatment group is [{lower_t:.3f},{upper_t:.3f}]')"
   ]
  },
  {
   "cell_type": "markdown",
   "metadata": {
    "collapsed": true
   },
   "source": [
    "## 6. Draw Conclusions\n",
    "\n",
    "* **In terms of statistical significance: **\n",
    "\n",
    "Since the p-value is way above the alpha value $\\alpha$ of 0.05, we cannot reject the null hypothesis. This means that **the new design did not have a significant impact to conversion rates**, let alone improving conversion based on the old design..\n",
    "\n",
    "* **In terms of practical significance:** \n",
    "\n",
    "The confidence interval for the treatment group [0.111,0.131] includes the baseline value of 12% conversion rate. However it **does not include the 14% mark** (resulted from the minimal detectable effect of a 2% increase that the stakeholders hoped to see). Therefore it reinfornces our conclusion that this new design does not appear to improve the conversion. \n",
    "\n",
    "**Weighing the costs & benefits, we do NOT reccommend launching this new page into production. **We hope to have more iterations that drives siginifant business impact in the near future!\n",
    "\n"
   ]
  },
  {
   "cell_type": "markdown",
   "metadata": {},
   "source": [
    "### Additional considerations & suggestions: "
   ]
  },
  {
   "cell_type": "markdown",
   "metadata": {},
   "source": [
    "**1. Choosing the right metrics ** \n",
    "\n",
    "In this project, the A/B test is designed to measure the impact of a new landing page design to conversion rate (the percentage of users that ultimately purchased the product). While the conversion rate is a key goal metric for the business' overall success, **it is a transactional metric that is too far down in the customer's sales funnel, comparing to users' visits to the landing page.** \n",
    "\n",
    "As a result, one potential cause of the lack of significance could be the choice of our a/b testing goals and the respective metrics. Therefore we recommend further explore the steps along the user journey, to better understand what metrics best measure the success of the next new design of the landing page. \n",
    "\n",
    "For example, ** user engagement metrics can measure the success of the landing page more directly.** Metrics such as user session duration, clicks into product detail page or percentage of added-to-cart. These metrics narrows down the numerator of the metric of interest and tells a better story of how a landing page UI design performs. \n",
    "\n",
    "** 2. Executing the A/B test ** \n",
    "\n",
    "**Randomization**: In this project, we noticed that a number of unique users were wrongly assigned to landing pages different from that of their designated test group, or went through multiple sessions. Although the number is very small, we recommend investigating the A/B testing tool and fix potential bugs during the assignment/execution. \n",
    "\n",
    "**Sample ratio mismatch**: We also identified an insignificant sample ratio mismatch in this test. Although this time it was insignificant, we recommend examining and debugging the data processing pipeline, and close any gaps throughout the user's touchpoints. "
   ]
  },
  {
   "cell_type": "markdown",
   "metadata": {},
   "source": [
    "# Thank you for reading! Have a wonderful holiday break ahead! "
   ]
  },
  {
   "cell_type": "markdown",
   "metadata": {
    "collapsed": true
   },
   "source": [
    "Below is the intructor's guidance for your reference :) "
   ]
  },
  {
   "cell_type": "code",
   "execution_count": 61,
   "metadata": {
    "collapsed": true
   },
   "outputs": [],
   "source": [
    "# Not-exhaustive project checklist\n",
    "# Note: this is not a writing assignment, but you should still incorporate comments or headers throughout\n",
    "# -- This will help others who review your work, but will also help you keep track of what you're doing\n",
    "# -- Just think about what would help you understand a peer's project when you have to grade theirs later\n",
    "\n",
    "\n",
    "# 1) Dataset included\n",
    "# 1a) Dataset explained/documented when used\n",
    "# 2) Analysis performed\n",
    "# 2a) Analysis steps documented, explained briefly\n",
    "# 3) Visualizations/outputs\n",
    "# 4) Conclusion\n",
    "# ---Did you answer your questions?\n",
    "# ---Did you find anything else?\n",
    "# ---What problems did you run into?\n",
    "# ---Any suggestions for future research?\n",
    "\n",
    "# Critical checks before submission\n",
    "# - Does the noteboook run without error? (Kernel>restart & run all => no errors at all? No long periods of processing?)\n",
    "# - Do you have your dataset included here? You shouldn't be connecting to any external data\n",
    "# - - Even if external datasets work here, they WILL NOT work for peer-grading, and you may get a 0."
   ]
  },
  {
   "cell_type": "code",
   "execution_count": null,
   "metadata": {
    "collapsed": true
   },
   "outputs": [],
   "source": []
  }
 ],
 "metadata": {
  "kernelspec": {
   "display_name": "Python 3.8",
   "language": "python",
   "name": "python38"
  },
  "language_info": {
   "codemirror_mode": {
    "name": "ipython",
    "version": 3
   },
   "file_extension": ".py",
   "mimetype": "text/x-python",
   "name": "python",
   "nbconvert_exporter": "python",
   "pygments_lexer": "ipython3",
   "version": "3.8.7"
  }
 },
 "nbformat": 4,
 "nbformat_minor": 2
}
